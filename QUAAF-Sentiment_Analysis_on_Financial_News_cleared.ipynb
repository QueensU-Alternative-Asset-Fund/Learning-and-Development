{
  "nbformat": 4,
  "nbformat_minor": 0,
  "metadata": {
    "colab": {
      "name": "L+D: Sentiment Analysis on Financial News",
      "provenance": [],
      "collapsed_sections": [
        "U3BBqNG3YVP6"
      ],
      "toc_visible": true
    },
    "kernelspec": {
      "name": "python3",
      "display_name": "Python 3"
    },
    "language_info": {
      "name": "python"
    },
    "accelerator": "GPU"
  },
  "cells": [
    {
      "cell_type": "markdown",
      "metadata": {
        "id": "8uQ-gPgYQFU0"
      },
      "source": [
        "# Queen's University Alternative Assets Fund\n",
        "#### Learning and Development Session - Sentiment Analysis for Financial News\n",
        "\n",
        "\n",
        "* Prepared by Robert Davis for QUAAF\n",
        "* May 20, 2021\n",
        "* To be run in Google Colab\n"
      ]
    },
    {
      "cell_type": "markdown",
      "metadata": {
        "id": "U3BBqNG3YVP6"
      },
      "source": [
        "## Setup"
      ]
    },
    {
      "cell_type": "markdown",
      "metadata": {
        "id": "X7mnSOEiQ-n4"
      },
      "source": [
        "#### Load required packages\n"
      ]
    },
    {
      "cell_type": "code",
      "metadata": {
        "id": "cPL646SvQEQO"
      },
      "source": [
        "# Note that the simpletransformers installation requires a runtime restart\n",
        "!pip install simpletransformers\n",
        "\n",
        "import pandas as pd"
      ],
      "execution_count": null,
      "outputs": []
    },
    {
      "cell_type": "markdown",
      "metadata": {
        "id": "XCC4JJAURxq7"
      },
      "source": [
        "### Load Data\n",
        "\n",
        "Load data from Kaggle dataset located at: https://www.kaggle.com/ankurzing/sentiment-analysis-for-financial-news"
      ]
    },
    {
      "cell_type": "code",
      "metadata": {
        "id": "KleQtgs-z0iE"
      },
      "source": [
        "import pandas as pd\n"
      ],
      "execution_count": null,
      "outputs": []
    },
    {
      "cell_type": "markdown",
      "metadata": {
        "id": "-_A3NPXMz0Uz"
      },
      "source": [
        ""
      ]
    },
    {
      "cell_type": "code",
      "metadata": {
        "id": "zKFxnZEgRWTN"
      },
      "source": [
        "df = pd.read_csv('https://raw.githubusercontent.com/QueensU-Alternative-Asset-Fund/Learning-and-Development/master/data/FinancialSentiment.csv', encoding='latin-1', header=None)"
      ],
      "execution_count": null,
      "outputs": []
    },
    {
      "cell_type": "markdown",
      "metadata": {
        "id": "XQFLZDrNTKAm"
      },
      "source": [
        "### Inspect Data"
      ]
    },
    {
      "cell_type": "code",
      "metadata": {
        "id": "7fq6jEYlS7IB"
      },
      "source": [
        "#Inspect dataframe\n",
        "df"
      ],
      "execution_count": null,
      "outputs": []
    },
    {
      "cell_type": "code",
      "metadata": {
        "id": "OiWUrH48TMSj"
      },
      "source": [
        "# Clean up the dataframe\n",
        "# Need to add column titles, and remove any rows where the sentiment is neutral\n",
        "# Need to change 'negative' to 0, and 'positive' to 1\n",
        "\n",
        "df.columns = ['Sentiment','Text']\n",
        "df = df[df['Sentiment']!= 'neutral']\n",
        "df.reset_index(inplace=True,drop=True)\n",
        "\n",
        "df.replace('negative',0, inplace=True)\n",
        "df.replace('positive',1,inplace=True)\n"
      ],
      "execution_count": null,
      "outputs": []
    },
    {
      "cell_type": "code",
      "metadata": {
        "id": "HcQnNQC4TgiC"
      },
      "source": [
        "# Inspect updated dataframe\n",
        "df"
      ],
      "execution_count": null,
      "outputs": []
    },
    {
      "cell_type": "code",
      "metadata": {
        "id": "2ueEhE63UHaj"
      },
      "source": [
        "# Look at a particular row\n",
        "\n",
        "row = 400\n",
        "sentiment = df.iloc[row]['Sentiment']\n",
        "text = df.iloc[row]['Text']\n",
        "\n",
        "print(f'Row selected = {row}')\n",
        "print(f'Sentiment: {sentiment}')\n",
        "print(f'Text: {text}')"
      ],
      "execution_count": null,
      "outputs": []
    },
    {
      "cell_type": "markdown",
      "metadata": {
        "id": "jDpmq23qTpVe"
      },
      "source": [
        "### Data Quality\n",
        "Note that for most datasets, significant data cleaning would be involved.\n",
        "This is a cleaned dataset, which allows us to skip that step.\n",
        "Data cleaning/engineering will often represent upwards of 80% of the work required to do this type of analysis.\n"
      ]
    },
    {
      "cell_type": "markdown",
      "metadata": {
        "id": "_V1Q0gowWPB-"
      },
      "source": [
        "### Train Test Split\n"
      ]
    },
    {
      "cell_type": "code",
      "metadata": {
        "id": "FpIrdRwsTmbb"
      },
      "source": [
        "# Split the data\n",
        "\n",
        "from sklearn.model_selection import train_test_split\n",
        "\n",
        "X = df['Text']\n",
        "y = df['Sentiment']\n",
        "\n",
        "X_train, X_val, y_train, y_val = train_test_split(X,y,random_state=42)"
      ],
      "execution_count": null,
      "outputs": []
    },
    {
      "cell_type": "markdown",
      "metadata": {
        "id": "baNUH8fMYKrT"
      },
      "source": [
        "## Sentiment Analysis with Transformers"
      ]
    },
    {
      "cell_type": "markdown",
      "metadata": {
        "id": "YRZnYn4KYyjO"
      },
      "source": [
        "### Data Prep"
      ]
    },
    {
      "cell_type": "code",
      "metadata": {
        "id": "667s_nQiXhYK"
      },
      "source": [
        "# SimpleTransformers requires the input to be in one dataframe, but we currently have X and y stored separately\n",
        "\n",
        "X_train_transformers = pd.DataFrame(X_train)\n",
        "X_train_transformers['Polarity'] = y_train\n",
        "X_train_transformers\n",
        "\n",
        "X_val_transformers = pd.DataFrame(X_val)\n",
        "X_val_transformers['Polarity'] = y_val\n"
      ],
      "execution_count": null,
      "outputs": []
    },
    {
      "cell_type": "markdown",
      "metadata": {
        "id": "KF65cdE2Y0-J"
      },
      "source": [
        "### Model Setup"
      ]
    },
    {
      "cell_type": "code",
      "metadata": {
        "id": "VYaHq9z6YnFS"
      },
      "source": [
        "from simpletransformers.classification import ClassificationModel, ClassificationArgs\n",
        "\n",
        "# Optional model configuration\n",
        "model_args = ClassificationArgs(num_train_epochs=5, sliding_window=False, overwrite_output_dir=True, save_model_every_epoch=False, max_seq_length=420)\n",
        "\n",
        "# Create a ClassificationModel\n",
        "model = ClassificationModel(\"xlnet\", \"xlnet-base-cased\", args=model_args, use_cuda=True)"
      ],
      "execution_count": null,
      "outputs": []
    },
    {
      "cell_type": "markdown",
      "metadata": {
        "id": "dAQs8D-Rdlr_"
      },
      "source": [
        "### Train the model"
      ]
    },
    {
      "cell_type": "code",
      "metadata": {
        "id": "lS6bA10gc6l6"
      },
      "source": [
        "model.train_model(X_train_transformers)"
      ],
      "execution_count": null,
      "outputs": []
    },
    {
      "cell_type": "markdown",
      "metadata": {
        "id": "ZXF54Lutdy8C"
      },
      "source": [
        "### Evaluate the model"
      ]
    },
    {
      "cell_type": "code",
      "metadata": {
        "id": "9yyrPp_rdorx"
      },
      "source": [
        "import sklearn\n",
        "\n",
        "result, model_outputs, wrong_predictions = model.eval_model(X_val_transformers, f1 = sklearn.metrics.f1_score)\n",
        "result"
      ],
      "execution_count": null,
      "outputs": []
    },
    {
      "cell_type": "markdown",
      "metadata": {
        "id": "9ijy175FkrMt"
      },
      "source": [
        "### Predict a new sentence"
      ]
    },
    {
      "cell_type": "code",
      "metadata": {
        "id": "qBRXDALUt7cD"
      },
      "source": [
        "input_text = ['APPLE SHARES DOWN ABOUT 6% PREMARKET AFTER CO FORECASTS Q4 PROFIT BELOW ESTIMATES',\n",
        "              '$TSLA IS STUCK WITH OVER 10,000 CARS ON FACTORY HOLD, RESULTING IN A LOGISTICAL NIGHTMARE - ELECTREK']"
      ],
      "execution_count": null,
      "outputs": []
    },
    {
      "cell_type": "code",
      "metadata": {
        "id": "DV7_J7wGd8bJ"
      },
      "source": [
        "\n",
        "predictions = model.predict(input_text)\n",
        "\n",
        "for i in range(0,len(input_text)):\n",
        "  print(f'Sentence: {input_text[i]}')\n",
        "  print(f'Prediction: {predictions[0][i]}')"
      ],
      "execution_count": null,
      "outputs": []
    },
    {
      "cell_type": "markdown",
      "metadata": {
        "id": "0YwDrvYNqJjr"
      },
      "source": [
        "## Named Entity Recognition\n"
      ]
    },
    {
      "cell_type": "code",
      "metadata": {
        "id": "abfEYx5Kts1o"
      },
      "source": [
        "import spacy\n",
        "\n",
        "# Load English tokenizer, tagger, parser and NER\n",
        "nlp = spacy.load('en_core_web_sm')"
      ],
      "execution_count": null,
      "outputs": []
    },
    {
      "cell_type": "code",
      "metadata": {
        "id": "i8_b6XBWqNje"
      },
      "source": [
        "doc = nlp(input_text[0])\n",
        "\n",
        "# Analyze syntax\n",
        "print(\"Noun phrases:\", [chunk.text for chunk in doc.noun_chunks])\n",
        "print(\"Verbs:\", [token.lemma_ for token in doc if token.pos_ == \"VERB\"])\n",
        "\n",
        "# Find named entities, phrases and concepts\n",
        "for entity in doc.ents:\n",
        "    print(entity.text, entity.label_)\n",
        "\n"
      ],
      "execution_count": null,
      "outputs": []
    },
    {
      "cell_type": "code",
      "metadata": {
        "id": "sbkXH448q3cV"
      },
      "source": [
        ""
      ],
      "execution_count": null,
      "outputs": []
    }
  ]
}